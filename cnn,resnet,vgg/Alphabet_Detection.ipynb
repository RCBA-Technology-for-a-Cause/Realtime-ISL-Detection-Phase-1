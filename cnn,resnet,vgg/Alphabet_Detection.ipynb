{
  "nbformat": 4,
  "nbformat_minor": 0,
  "metadata": {
    "colab": {
      "name": "Alphabet Detection.ipynb",
      "provenance": [],
      "collapsed_sections": []
    },
    "kernelspec": {
      "name": "python3",
      "display_name": "Python 3"
    },
    "language_info": {
      "name": "python"
    }
  },
  "cells": [
    {
      "cell_type": "code",
      "metadata": {
        "colab": {
          "base_uri": "https://localhost:8080/",
          "height": 386
        },
        "id": "TjAVmDrFNWPt",
        "outputId": "0a32c1d1-8e75-4fd4-caea-731bcf177923"
      },
      "source": [
        "pip install anvil-uplink"
      ],
      "execution_count": null,
      "outputs": [
        {
          "output_type": "stream",
          "text": [
            "Collecting anvil-uplink\n",
            "\u001b[?25l  Downloading https://files.pythonhosted.org/packages/9a/65/776713490bfd5145ddb87834355bf7936bd233b273098e37dc12f1ac253c/anvil_uplink-0.3.36-py2.py3-none-any.whl (61kB)\n",
            "\r\u001b[K     |█████▍                          | 10kB 13.9MB/s eta 0:00:01\r\u001b[K     |██████████▊                     | 20kB 6.8MB/s eta 0:00:01\r\u001b[K     |████████████████                | 30kB 4.4MB/s eta 0:00:01\r\u001b[K     |█████████████████████▍          | 40kB 4.0MB/s eta 0:00:01\r\u001b[K     |██████████████████████████▊     | 51kB 2.1MB/s eta 0:00:01\r\u001b[K     |████████████████████████████████| 61kB 1.8MB/s \n",
            "\u001b[?25hRequirement already satisfied: six in /usr/local/lib/python3.7/dist-packages (from anvil-uplink) (1.15.0)\n",
            "Requirement already satisfied: future in /usr/local/lib/python3.7/dist-packages (from anvil-uplink) (0.16.0)\n",
            "Collecting argparse\n",
            "  Downloading https://files.pythonhosted.org/packages/f2/94/3af39d34be01a24a6e65433d19e107099374224905f1e0cc6bbe1fd22a2f/argparse-1.4.0-py2.py3-none-any.whl\n",
            "Collecting ws4py\n",
            "\u001b[?25l  Downloading https://files.pythonhosted.org/packages/53/20/4019a739b2eefe9282d3822ef6a225250af964b117356971bd55e274193c/ws4py-0.5.1.tar.gz (51kB)\n",
            "\u001b[K     |████████████████████████████████| 61kB 5.1MB/s \n",
            "\u001b[?25hBuilding wheels for collected packages: ws4py\n",
            "  Building wheel for ws4py (setup.py) ... \u001b[?25l\u001b[?25hdone\n",
            "  Created wheel for ws4py: filename=ws4py-0.5.1-cp37-none-any.whl size=45216 sha256=f850d2c85e99945521e207e4389f2c106049b349c95c74d6b969216b64c035e6\n",
            "  Stored in directory: /root/.cache/pip/wheels/a2/6e/4e/8b0ae12fb9b8a05715256952cf7609a8ab86285fab99b88c68\n",
            "Successfully built ws4py\n",
            "Installing collected packages: argparse, ws4py, anvil-uplink\n",
            "Successfully installed anvil-uplink-0.3.36 argparse-1.4.0 ws4py-0.5.1\n"
          ],
          "name": "stdout"
        },
        {
          "output_type": "display_data",
          "data": {
            "application/vnd.colab-display-data+json": {
              "pip_warning": {
                "packages": [
                  "argparse",
                  "google"
                ]
              }
            }
          },
          "metadata": {
            "tags": []
          }
        }
      ]
    },
    {
      "cell_type": "code",
      "metadata": {
        "colab": {
          "base_uri": "https://localhost:8080/"
        },
        "id": "GeAOzeChgZQ6",
        "outputId": "69a3cca4-1932-4e2a-f354-953a2fad5fb1"
      },
      "source": [
        "import anvil.server\n",
        "import anvil.media\n",
        "anvil.server.connect(\"KAMONKLKGWTHNLTE7GDTLJTG-PZK7WVA2S42P7CSI\")"
      ],
      "execution_count": null,
      "outputs": [
        {
          "output_type": "stream",
          "text": [
            "Connecting to wss://anvil.works/uplink\n",
            "Anvil websocket open\n",
            "Connected to \"Default environment (dev)\" as SERVER\n"
          ],
          "name": "stdout"
        }
      ]
    },
    {
      "cell_type": "code",
      "metadata": {
        "colab": {
          "base_uri": "https://localhost:8080/"
        },
        "id": "aSaCA0KAgtoX",
        "outputId": "8c0ef10e-1ad6-4938-f127-d103f016e0d2"
      },
      "source": [
        "from google.colab import drive\n",
        "drive.mount('/content/drive')"
      ],
      "execution_count": null,
      "outputs": [
        {
          "output_type": "stream",
          "text": [
            "Drive already mounted at /content/drive; to attempt to forcibly remount, call drive.mount(\"/content/drive\", force_remount=True).\n"
          ],
          "name": "stdout"
        }
      ]
    },
    {
      "cell_type": "code",
      "metadata": {
        "id": "yKOVVJiWyG_C"
      },
      "source": [
        "!mkdir train"
      ],
      "execution_count": null,
      "outputs": []
    },
    {
      "cell_type": "code",
      "metadata": {
        "id": "5P1yV99IzfBH"
      },
      "source": [
        "!mkdir test"
      ],
      "execution_count": null,
      "outputs": []
    },
    {
      "cell_type": "code",
      "metadata": {
        "colab": {
          "base_uri": "https://localhost:8080/"
        },
        "id": "3PIOagUYyOGi",
        "outputId": "5b0c5356-9fcc-4f86-eb3f-6cde536cd367"
      },
      "source": [
        "!unzip /content/drive/MyDrive/alphaaaaaa/Training.zip -d /content/train/"
      ],
      "execution_count": null,
      "outputs": [
        {
          "output_type": "stream",
          "text": [
            "Archive:  /content/drive/MyDrive/alphaaaaaa/Training.zip\n",
            "  inflating: /content/train/Training/z/20.png  \n",
            "  inflating: /content/train/Training/z/16.png  \n",
            "  inflating: /content/train/Training/z/9.png  \n",
            "  inflating: /content/train/Training/z/19.png  \n",
            "  inflating: /content/train/Training/z/2.png  \n",
            "  inflating: /content/train/Training/z/6.png  \n",
            "  inflating: /content/train/Training/n/8.png  \n",
            "  inflating: /content/train/Training/n/9.png  \n",
            "  inflating: /content/train/Training/z/13.png  \n",
            "  inflating: /content/train/Training/z/3.png  \n",
            "  inflating: /content/train/Training/z/14.png  \n",
            "  inflating: /content/train/Training/z/5.png  \n",
            "  inflating: /content/train/Training/z/4.png  \n",
            "  inflating: /content/train/Training/p/9.png  \n",
            "  inflating: /content/train/Training/z/7.png  \n",
            "  inflating: /content/train/Training/z/12.png  \n",
            "  inflating: /content/train/Training/z/18.png  \n",
            "  inflating: /content/train/Training/z/10.png  \n",
            "  inflating: /content/train/Training/x/15.png  \n",
            "  inflating: /content/train/Training/n/7.png  \n",
            "  inflating: /content/train/Training/c/13.png  \n",
            "  inflating: /content/train/Training/z/11.png  \n",
            "  inflating: /content/train/Training/t/3.png  \n",
            "  inflating: /content/train/Training/z/8.png  \n",
            "  inflating: /content/train/Training/p/8.png  \n",
            "  inflating: /content/train/Training/z/15.png  \n",
            "  inflating: /content/train/Training/b/5.png  \n",
            "  inflating: /content/train/Training/z/1.png  \n",
            "  inflating: /content/train/Training/b/2.png  \n",
            "  inflating: /content/train/Training/b/3.png  \n",
            "  inflating: /content/train/Training/p/17.png  \n",
            "  inflating: /content/train/Training/u/19.png  \n",
            "  inflating: /content/train/Training/j/5.png  \n",
            "  inflating: /content/train/Training/g/18.png  \n",
            "  inflating: /content/train/Training/t/10.png  \n",
            "  inflating: /content/train/Training/j/1.png  \n",
            "  inflating: /content/train/Training/b/8.png  \n",
            "  inflating: /content/train/Training/t/18.png  \n",
            "  inflating: /content/train/Training/x/8.png  \n",
            "  inflating: /content/train/Training/b/6.png  \n",
            "  inflating: /content/train/Training/w/11.png  \n",
            "  inflating: /content/train/Training/l/6.png  \n",
            "  inflating: /content/train/Training/h/11.png  \n",
            "  inflating: /content/train/Training/b/20.png  \n",
            "  inflating: /content/train/Training/z/17.png  \n",
            "  inflating: /content/train/Training/b/4.png  \n",
            "  inflating: /content/train/Training/f/11.png  \n",
            "  inflating: /content/train/Training/r/11.png  \n",
            "  inflating: /content/train/Training/a/10.png  \n",
            "  inflating: /content/train/Training/w/15.png  \n",
            "  inflating: /content/train/Training/f/18.png  \n",
            "  inflating: /content/train/Training/b/7.png  \n",
            "  inflating: /content/train/Training/c/18.png  \n",
            "  inflating: /content/train/Training/b/14.png  \n",
            "  inflating: /content/train/Training/o/15.png  \n",
            "  inflating: /content/train/Training/x/12.png  \n",
            "  inflating: /content/train/Training/w/9.png  \n",
            "  inflating: /content/train/Training/v/18.png  \n",
            "  inflating: /content/train/Training/s/18.png  \n",
            "  inflating: /content/train/Training/a/5.png  \n",
            "  inflating: /content/train/Training/d/6.png  \n",
            "  inflating: /content/train/Training/x/6.png  \n",
            "  inflating: /content/train/Training/b/9.png  \n",
            "  inflating: /content/train/Training/v/5.png  \n",
            "  inflating: /content/train/Training/g/3.png  \n",
            "  inflating: /content/train/Training/l/14.png  \n",
            "  inflating: /content/train/Training/t/12.png  \n",
            "  inflating: /content/train/Training/f/19.png  \n",
            "  inflating: /content/train/Training/s/15.png  \n",
            "  inflating: /content/train/Training/j/7.png  \n",
            "  inflating: /content/train/Training/k/5.png  \n",
            "  inflating: /content/train/Training/r/12.png  \n",
            "  inflating: /content/train/Training/h/17.png  \n",
            "  inflating: /content/train/Training/u/3.png  \n",
            "  inflating: /content/train/Training/g/7.png  \n",
            "  inflating: /content/train/Training/n/11.png  \n",
            "  inflating: /content/train/Training/t/6.png  \n",
            "  inflating: /content/train/Training/m/15.png  \n",
            "  inflating: /content/train/Training/t/15.png  \n",
            "  inflating: /content/train/Training/v/3.png  \n",
            "  inflating: /content/train/Training/h/14.png  \n",
            "  inflating: /content/train/Training/i/8.png  \n",
            "  inflating: /content/train/Training/u/9.png  \n",
            "  inflating: /content/train/Training/k/14.png  \n",
            "  inflating: /content/train/Training/d/10.png  \n",
            "  inflating: /content/train/Training/r/4.png  \n",
            "  inflating: /content/train/Training/k/12.png  \n",
            "  inflating: /content/train/Training/l/15.png  \n",
            "  inflating: /content/train/Training/i/6.png  \n",
            "  inflating: /content/train/Training/a/17.png  \n",
            "  inflating: /content/train/Training/v/19.png  \n",
            "  inflating: /content/train/Training/x/2.png  \n",
            "  inflating: /content/train/Training/m/6.png  \n",
            "  inflating: /content/train/Training/x/17.png  \n",
            "  inflating: /content/train/Training/v/16.png  \n",
            "  inflating: /content/train/Training/q/1.png  \n",
            "  inflating: /content/train/Training/a/14.png  \n",
            "  inflating: /content/train/Training/b/18.png  \n",
            "  inflating: /content/train/Training/g/14.png  \n",
            "  inflating: /content/train/Training/u/5.png  \n",
            "  inflating: /content/train/Training/d/11.png  \n",
            "  inflating: /content/train/Training/u/18.png  \n",
            "  inflating: /content/train/Training/f/7.png  \n",
            "  inflating: /content/train/Training/i/10.png  \n",
            "  inflating: /content/train/Training/a/8.png  \n",
            "  inflating: /content/train/Training/q/3.png  \n",
            "  inflating: /content/train/Training/q/11.png  \n",
            "  inflating: /content/train/Training/n/4.png  \n",
            "  inflating: /content/train/Training/s/14.png  \n",
            "  inflating: /content/train/Training/w/2.png  \n",
            "  inflating: /content/train/Training/w/12.png  \n",
            "  inflating: /content/train/Training/r/17.png  \n",
            "  inflating: /content/train/Training/j/6.png  \n",
            "  inflating: /content/train/Training/v/11.png  \n",
            "  inflating: /content/train/Training/a/1.png  \n",
            "  inflating: /content/train/Training/m/12.png  \n",
            "  inflating: /content/train/Training/r/7.png  \n",
            "  inflating: /content/train/Training/g/10.png  \n",
            "  inflating: /content/train/Training/j/19.png  \n",
            "  inflating: /content/train/Training/j/2.png  \n",
            "  inflating: /content/train/Training/y/19.png  \n",
            "  inflating: /content/train/Training/p/6.png  \n",
            "  inflating: /content/train/Training/t/20.png  \n",
            "  inflating: /content/train/Training/b/19.png  \n",
            "  inflating: /content/train/Training/s/8.png  \n",
            "  inflating: /content/train/Training/b/12.png  \n",
            "  inflating: /content/train/Training/h/4.png  \n",
            "  inflating: /content/train/Training/g/2.png  \n",
            "  inflating: /content/train/Training/o/18.png  \n",
            "  inflating: /content/train/Training/w/13.png  \n",
            "  inflating: /content/train/Training/l/13.png  \n",
            "  inflating: /content/train/Training/y/17.png  \n",
            "  inflating: /content/train/Training/k/8.png  \n",
            "  inflating: /content/train/Training/d/16.png  \n",
            "  inflating: /content/train/Training/x/1.png  \n",
            "  inflating: /content/train/Training/u/1.png  \n",
            "  inflating: /content/train/Training/s/6.png  \n",
            "  inflating: /content/train/Training/h/19.png  \n",
            "  inflating: /content/train/Training/y/2.png  \n",
            "  inflating: /content/train/Training/r/9.png  \n",
            "  inflating: /content/train/Training/y/18.png  \n",
            "  inflating: /content/train/Training/o/4.png  \n",
            "  inflating: /content/train/Training/u/10.png  \n",
            "  inflating: /content/train/Training/e/7.png  \n",
            "  inflating: /content/train/Training/d/13.png  \n",
            "  inflating: /content/train/Training/f/15.png  \n",
            "  inflating: /content/train/Training/m/8.png  \n",
            "  inflating: /content/train/Training/c/8.png  \n",
            "  inflating: /content/train/Training/u/7.png  \n",
            "  inflating: /content/train/Training/s/16.png  \n",
            "  inflating: /content/train/Training/n/18.png  \n",
            "  inflating: /content/train/Training/v/10.png  \n",
            "  inflating: /content/train/Training/o/20.png  \n",
            "  inflating: /content/train/Training/b/13.png  \n",
            "  inflating: /content/train/Training/r/18.png  \n",
            "  inflating: /content/train/Training/y/1.png  \n",
            "  inflating: /content/train/Training/a/7.png  \n",
            "  inflating: /content/train/Training/c/17.png  \n",
            "  inflating: /content/train/Training/l/3.png  \n",
            "  inflating: /content/train/Training/v/2.png  \n",
            "  inflating: /content/train/Training/g/4.png  \n",
            "  inflating: /content/train/Training/r/8.png  \n",
            "  inflating: /content/train/Training/m/13.png  \n",
            "  inflating: /content/train/Training/i/20.png  \n",
            "  inflating: /content/train/Training/y/13.png  \n",
            "  inflating: /content/train/Training/o/10.png  \n",
            "  inflating: /content/train/Training/w/14.png  \n",
            "  inflating: /content/train/Training/m/7.png  \n",
            "  inflating: /content/train/Training/y/7.png  \n",
            "  inflating: /content/train/Training/x/20.png  \n",
            "  inflating: /content/train/Training/p/7.png  \n",
            "  inflating: /content/train/Training/r/19.png  \n",
            "  inflating: /content/train/Training/k/3.png  \n",
            "  inflating: /content/train/Training/h/18.png  \n",
            "  inflating: /content/train/Training/d/3.png  \n",
            "  inflating: /content/train/Training/k/20.png  \n",
            "  inflating: /content/train/Training/b/17.png  \n",
            "  inflating: /content/train/Training/x/14.png  \n",
            "  inflating: /content/train/Training/l/20.png  \n",
            "  inflating: /content/train/Training/r/6.png  \n",
            "  inflating: /content/train/Training/w/10.png  \n",
            "  inflating: /content/train/Training/o/6.png  \n",
            "  inflating: /content/train/Training/w/18.png  \n",
            "  inflating: /content/train/Training/r/5.png  \n",
            "  inflating: /content/train/Training/w/17.png  \n",
            "  inflating: /content/train/Training/a/4.png  \n",
            "  inflating: /content/train/Training/j/17.png  \n",
            "  inflating: /content/train/Training/h/16.png  \n",
            "  inflating: /content/train/Training/k/6.png  \n",
            "  inflating: /content/train/Training/y/10.png  \n",
            "  inflating: /content/train/Training/a/15.png  \n",
            "  inflating: /content/train/Training/n/13.png  \n",
            "  inflating: /content/train/Training/g/8.png  \n",
            "  inflating: /content/train/Training/u/20.png  \n",
            "  inflating: /content/train/Training/s/2.png  \n",
            "  inflating: /content/train/Training/w/4.png  \n",
            "  inflating: /content/train/Training/y/9.png  \n",
            "  inflating: /content/train/Training/v/13.png  \n",
            "  inflating: /content/train/Training/t/17.png  \n",
            "  inflating: /content/train/Training/v/7.png  \n",
            "  inflating: /content/train/Training/e/1.png  \n",
            "  inflating: /content/train/Training/d/12.png  \n",
            "  inflating: /content/train/Training/d/17.png  \n",
            "  inflating: /content/train/Training/e/14.png  \n",
            "  inflating: /content/train/Training/a/11.png  \n",
            "  inflating: /content/train/Training/a/13.png  \n",
            "  inflating: /content/train/Training/q/18.png  \n",
            "  inflating: /content/train/Training/w/1.png  \n",
            "  inflating: /content/train/Training/k/7.png  \n",
            "  inflating: /content/train/Training/l/5.png  \n",
            "  inflating: /content/train/Training/x/4.png  \n",
            "  inflating: /content/train/Training/e/5.png  \n",
            "  inflating: /content/train/Training/g/9.png  \n",
            "  inflating: /content/train/Training/h/5.png  \n",
            "  inflating: /content/train/Training/w/3.png  \n",
            "  inflating: /content/train/Training/n/20.png  \n",
            "  inflating: /content/train/Training/h/1.png  \n",
            "  inflating: /content/train/Training/q/9.png  \n",
            "  inflating: /content/train/Training/w/16.png  \n",
            "  inflating: /content/train/Training/j/10.png  \n",
            "  inflating: /content/train/Training/s/10.png  \n",
            "  inflating: /content/train/Training/g/13.png  \n",
            "  inflating: /content/train/Training/o/8.png  \n",
            "  inflating: /content/train/Training/p/4.png  \n",
            "  inflating: /content/train/Training/q/13.png  \n",
            "  inflating: /content/train/Training/i/15.png  \n",
            "  inflating: /content/train/Training/i/12.png  \n",
            "  inflating: /content/train/Training/f/14.png  \n",
            "  inflating: /content/train/Training/t/1.png  \n",
            "  inflating: /content/train/Training/u/2.png  \n",
            "  inflating: /content/train/Training/j/11.png  \n",
            "  inflating: /content/train/Training/d/9.png  \n",
            "  inflating: /content/train/Training/r/16.png  \n",
            "  inflating: /content/train/Training/v/9.png  \n",
            "  inflating: /content/train/Training/b/16.png  \n",
            "  inflating: /content/train/Training/g/16.png  \n",
            "  inflating: /content/train/Training/s/19.png  \n",
            "  inflating: /content/train/Training/u/11.png  \n",
            "  inflating: /content/train/Training/c/20.png  \n",
            "  inflating: /content/train/Training/r/13.png  \n",
            "  inflating: /content/train/Training/h/8.png  \n",
            "  inflating: /content/train/Training/o/3.png  \n",
            "  inflating: /content/train/Training/i/3.png  \n",
            "  inflating: /content/train/Training/a/2.png  \n",
            "  inflating: /content/train/Training/a/20.png  \n",
            "  inflating: /content/train/Training/k/4.png  \n",
            "  inflating: /content/train/Training/d/8.png  \n",
            "  inflating: /content/train/Training/x/19.png  \n",
            "  inflating: /content/train/Training/q/20.png  \n",
            "  inflating: /content/train/Training/c/3.png  \n",
            "  inflating: /content/train/Training/i/17.png  \n",
            "  inflating: /content/train/Training/r/2.png  \n",
            "  inflating: /content/train/Training/h/15.png  \n",
            "  inflating: /content/train/Training/p/11.png  \n",
            "  inflating: /content/train/Training/n/16.png  \n",
            "  inflating: /content/train/Training/f/3.png  \n",
            "  inflating: /content/train/Training/n/15.png  \n",
            "  inflating: /content/train/Training/k/2.png  \n",
            "  inflating: /content/train/Training/j/12.png  \n",
            "  inflating: /content/train/Training/k/18.png  \n",
            "  inflating: /content/train/Training/w/6.png  \n",
            "  inflating: /content/train/Training/d/15.png  \n",
            "  inflating: /content/train/Training/o/7.png  \n",
            "  inflating: /content/train/Training/e/12.png  \n",
            "  inflating: /content/train/Training/h/2.png  \n",
            "  inflating: /content/train/Training/l/1.png  \n",
            "  inflating: /content/train/Training/e/20.png  \n",
            "  inflating: /content/train/Training/c/15.png  \n",
            "  inflating: /content/train/Training/n/14.png  \n",
            "  inflating: /content/train/Training/g/12.png  \n",
            "  inflating: /content/train/Training/t/14.png  \n",
            "  inflating: /content/train/Training/u/16.png  \n",
            "  inflating: /content/train/Training/a/3.png  \n",
            "  inflating: /content/train/Training/s/12.png  \n",
            "  inflating: /content/train/Training/q/6.png  \n",
            "  inflating: /content/train/Training/c/7.png  \n",
            "  inflating: /content/train/Training/o/2.png  \n",
            "  inflating: /content/train/Training/m/5.png  \n",
            "  inflating: /content/train/Training/c/12.png  \n",
            "  inflating: /content/train/Training/j/18.png  \n",
            "  inflating: /content/train/Training/v/1.png  \n",
            "  inflating: /content/train/Training/n/19.png  \n",
            "  inflating: /content/train/Training/a/18.png  \n",
            "  inflating: /content/train/Training/n/1.png  \n",
            "  inflating: /content/train/Training/p/18.png  \n",
            "  inflating: /content/train/Training/h/10.png  \n",
            "  inflating: /content/train/Training/j/4.png  \n",
            "  inflating: /content/train/Training/n/17.png  \n",
            "  inflating: /content/train/Training/e/2.png  \n",
            "  inflating: /content/train/Training/s/1.png  \n",
            "  inflating: /content/train/Training/v/17.png  \n",
            "  inflating: /content/train/Training/h/3.png  \n",
            "  inflating: /content/train/Training/q/2.png  \n",
            "  inflating: /content/train/Training/f/17.png  \n",
            "  inflating: /content/train/Training/e/6.png  \n",
            "  inflating: /content/train/Training/y/12.png  \n",
            "  inflating: /content/train/Training/c/1.png  \n",
            "  inflating: /content/train/Training/d/20.png  \n",
            "  inflating: /content/train/Training/u/14.png  \n",
            "  inflating: /content/train/Training/q/8.png  \n",
            "  inflating: /content/train/Training/e/19.png  \n",
            "  inflating: /content/train/Training/m/14.png  \n",
            "  inflating: /content/train/Training/u/17.png  \n",
            "  inflating: /content/train/Training/k/10.png  \n",
            "  inflating: /content/train/Training/k/19.png  \n",
            "  inflating: /content/train/Training/q/19.png  \n",
            "  inflating: /content/train/Training/p/20.png  \n",
            "  inflating: /content/train/Training/j/15.png  \n",
            "  inflating: /content/train/Training/d/1.png  \n",
            "  inflating: /content/train/Training/v/8.png  \n",
            "  inflating: /content/train/Training/v/6.png  \n",
            "  inflating: /content/train/Training/t/8.png  \n",
            "  inflating: /content/train/Training/o/16.png  \n",
            "  inflating: /content/train/Training/g/11.png  \n",
            "  inflating: /content/train/Training/l/16.png  \n",
            "  inflating: /content/train/Training/t/7.png  \n",
            "  inflating: /content/train/Training/j/14.png  \n",
            "  inflating: /content/train/Training/p/13.png  \n",
            "  inflating: /content/train/Training/w/20.png  \n",
            "  inflating: /content/train/Training/u/12.png  \n",
            "  inflating: /content/train/Training/m/3.png  \n",
            "  inflating: /content/train/Training/j/9.png  \n",
            "  inflating: /content/train/Training/r/20.png  \n",
            "  inflating: /content/train/Training/m/19.png  \n",
            "  inflating: /content/train/Training/c/5.png  \n",
            "  inflating: /content/train/Training/l/11.png  \n",
            "  inflating: /content/train/Training/p/5.png  \n",
            "  inflating: /content/train/Training/i/18.png  \n",
            "  inflating: /content/train/Training/n/6.png  \n",
            "  inflating: /content/train/Training/j/20.png  \n",
            "  inflating: /content/train/Training/g/15.png  \n",
            "  inflating: /content/train/Training/d/2.png  \n",
            "  inflating: /content/train/Training/x/5.png  \n",
            "  inflating: /content/train/Training/r/15.png  \n",
            "  inflating: /content/train/Training/s/3.png  \n",
            "  inflating: /content/train/Training/n/2.png  \n",
            "  inflating: /content/train/Training/i/11.png  \n",
            "  inflating: /content/train/Training/y/6.png  \n",
            "  inflating: /content/train/Training/o/5.png  \n",
            "  inflating: /content/train/Training/n/3.png  \n",
            "  inflating: /content/train/Training/b/10.png  \n",
            "  inflating: /content/train/Training/j/13.png  \n",
            "  inflating: /content/train/Training/f/1.png  \n",
            "  inflating: /content/train/Training/j/16.png  \n",
            "  inflating: /content/train/Training/c/11.png  \n",
            "  inflating: /content/train/Training/v/14.png  \n",
            "  inflating: /content/train/Training/g/17.png  \n",
            "  inflating: /content/train/Training/q/4.png  \n",
            "  inflating: /content/train/Training/l/17.png  \n",
            "  inflating: /content/train/Training/f/8.png  \n",
            "  inflating: /content/train/Training/c/10.png  \n",
            "  inflating: /content/train/Training/k/11.png  \n",
            "  inflating: /content/train/Training/v/15.png  \n",
            "  inflating: /content/train/Training/s/5.png  \n",
            "  inflating: /content/train/Training/c/14.png  \n",
            "  inflating: /content/train/Training/q/15.png  \n",
            "  inflating: /content/train/Training/y/8.png  \n",
            "  inflating: /content/train/Training/m/16.png  \n",
            "  inflating: /content/train/Training/r/3.png  \n",
            "  inflating: /content/train/Training/h/13.png  \n",
            "  inflating: /content/train/Training/g/6.png  \n",
            "  inflating: /content/train/Training/m/2.png  \n",
            "  inflating: /content/train/Training/x/10.png  \n",
            "  inflating: /content/train/Training/g/1.png  \n",
            "  inflating: /content/train/Training/t/5.png  \n",
            "  inflating: /content/train/Training/e/4.png  \n",
            "  inflating: /content/train/Training/l/2.png  \n",
            "  inflating: /content/train/Training/g/20.png  \n",
            "  inflating: /content/train/Training/i/1.png  \n",
            "  inflating: /content/train/Training/y/3.png  \n",
            "  inflating: /content/train/Training/d/4.png  \n",
            "  inflating: /content/train/Training/w/19.png  \n",
            "  inflating: /content/train/Training/y/5.png  \n",
            "  inflating: /content/train/Training/t/9.png  \n",
            "  inflating: /content/train/Training/o/1.png  \n",
            "  inflating: /content/train/Training/a/16.png  \n",
            "  inflating: /content/train/Training/k/17.png  \n",
            "  inflating: /content/train/Training/t/13.png  \n",
            "  inflating: /content/train/Training/c/9.png  \n",
            "  inflating: /content/train/Training/v/12.png  \n",
            "  inflating: /content/train/Training/s/20.png  \n",
            "  inflating: /content/train/Training/u/15.png  \n",
            "  inflating: /content/train/Training/m/18.png  \n",
            "  inflating: /content/train/Training/m/10.png  \n",
            "  inflating: /content/train/Training/i/19.png  \n",
            "  inflating: /content/train/Training/s/4.png  \n",
            "  inflating: /content/train/Training/b/11.png  \n",
            "  inflating: /content/train/Training/p/12.png  \n",
            "  inflating: /content/train/Training/t/16.png  \n",
            "  inflating: /content/train/Training/i/2.png  \n",
            "  inflating: /content/train/Training/e/11.png  \n",
            "  inflating: /content/train/Training/e/15.png  \n",
            "  inflating: /content/train/Training/m/9.png  \n",
            "  inflating: /content/train/Training/t/4.png  \n",
            "  inflating: /content/train/Training/s/7.png  \n",
            "  inflating: /content/train/Training/u/6.png  \n",
            "  inflating: /content/train/Training/n/5.png  \n",
            "  inflating: /content/train/Training/r/10.png  \n",
            "  inflating: /content/train/Training/q/10.png  \n",
            "  inflating: /content/train/Training/h/12.png  \n",
            "  inflating: /content/train/Training/w/8.png  \n",
            "  inflating: /content/train/Training/k/13.png  \n",
            "  inflating: /content/train/Training/y/4.png  \n",
            "  inflating: /content/train/Training/o/14.png  \n",
            "  inflating: /content/train/Training/f/13.png  \n",
            "  inflating: /content/train/Training/c/4.png  \n",
            "  inflating: /content/train/Training/w/7.png  \n",
            "  inflating: /content/train/Training/k/1.png  \n",
            "  inflating: /content/train/Training/x/9.png  \n",
            "  inflating: /content/train/Training/h/20.png  \n",
            "  inflating: /content/train/Training/h/9.png  \n",
            "  inflating: /content/train/Training/d/7.png  \n",
            "  inflating: /content/train/Training/c/16.png  \n",
            "  inflating: /content/train/Training/x/13.png  \n",
            "  inflating: /content/train/Training/x/7.png  \n",
            "  inflating: /content/train/Training/k/16.png  \n",
            "  inflating: /content/train/Training/s/9.png  \n",
            "  inflating: /content/train/Training/p/1.png  \n",
            "  inflating: /content/train/Training/l/19.png  \n",
            "  inflating: /content/train/Training/f/10.png  \n",
            "  inflating: /content/train/Training/m/20.png  \n",
            "  inflating: /content/train/Training/s/13.png  \n",
            "  inflating: /content/train/Training/o/11.png  \n",
            "  inflating: /content/train/Training/c/6.png  \n",
            "  inflating: /content/train/Training/o/9.png  \n",
            "  inflating: /content/train/Training/p/2.png  \n",
            "  inflating: /content/train/Training/o/12.png  \n",
            "  inflating: /content/train/Training/f/9.png  \n",
            "  inflating: /content/train/Training/x/18.png  \n",
            "  inflating: /content/train/Training/o/19.png  \n",
            "  inflating: /content/train/Training/d/19.png  \n",
            "  inflating: /content/train/Training/t/19.png  \n",
            "  inflating: /content/train/Training/l/7.png  \n",
            "  inflating: /content/train/Training/e/16.png  \n",
            "  inflating: /content/train/Training/d/5.png  \n",
            "  inflating: /content/train/Training/f/5.png  \n",
            "  inflating: /content/train/Training/e/8.png  \n",
            "  inflating: /content/train/Training/e/17.png  \n",
            "  inflating: /content/train/Training/f/12.png  \n",
            "  inflating: /content/train/Training/q/17.png  \n",
            "  inflating: /content/train/Training/p/16.png  \n",
            "  inflating: /content/train/Training/o/17.png  \n",
            "  inflating: /content/train/Training/f/6.png  \n",
            "  inflating: /content/train/Training/i/5.png  \n",
            "  inflating: /content/train/Training/q/14.png  \n",
            "  inflating: /content/train/Training/f/2.png  \n",
            "  inflating: /content/train/Training/p/3.png  \n",
            "  inflating: /content/train/Training/f/16.png  \n",
            "  inflating: /content/train/Training/q/12.png  \n",
            "  inflating: /content/train/Training/x/11.png  \n",
            "  inflating: /content/train/Training/s/11.png  \n",
            "  inflating: /content/train/Training/k/15.png  \n",
            "  inflating: /content/train/Training/l/9.png  \n",
            "  inflating: /content/train/Training/i/4.png  \n",
            "  inflating: /content/train/Training/w/5.png  \n",
            "  inflating: /content/train/Training/b/15.png  \n",
            "  inflating: /content/train/Training/a/6.png  \n",
            "  inflating: /content/train/Training/y/15.png  \n",
            "  inflating: /content/train/Training/a/9.png  \n",
            "  inflating: /content/train/Training/c/19.png  \n",
            "  inflating: /content/train/Training/a/12.png  \n",
            "  inflating: /content/train/Training/t/2.png  \n",
            "  inflating: /content/train/Training/u/4.png  \n",
            "  inflating: /content/train/Training/d/14.png  \n",
            "  inflating: /content/train/Training/e/13.png  \n",
            "  inflating: /content/train/Training/t/11.png  \n",
            "  inflating: /content/train/Training/l/18.png  \n",
            "  inflating: /content/train/Training/l/4.png  \n",
            "  inflating: /content/train/Training/i/13.png  \n",
            "  inflating: /content/train/Training/e/9.png  \n",
            "  inflating: /content/train/Training/j/3.png  \n",
            "  inflating: /content/train/Training/h/7.png  \n",
            "  inflating: /content/train/Training/q/5.png  \n",
            "  inflating: /content/train/Training/s/17.png  \n",
            "  inflating: /content/train/Training/p/10.png  \n",
            "  inflating: /content/train/Training/l/12.png  \n",
            "  inflating: /content/train/Training/m/1.png  \n",
            "  inflating: /content/train/Training/y/16.png  \n",
            "  inflating: /content/train/Training/r/14.png  \n",
            "  inflating: /content/train/Training/e/18.png  \n",
            "  inflating: /content/train/Training/v/4.png  \n",
            "  inflating: /content/train/Training/i/16.png  \n",
            "  inflating: /content/train/Training/p/19.png  \n",
            "  inflating: /content/train/Training/l/8.png  \n",
            "  inflating: /content/train/Training/u/8.png  \n",
            "  inflating: /content/train/Training/i/9.png  \n",
            "  inflating: /content/train/Training/e/10.png  \n",
            "  inflating: /content/train/Training/p/14.png  \n",
            "  inflating: /content/train/Training/y/20.png  \n",
            "  inflating: /content/train/Training/u/13.png  \n",
            "  inflating: /content/train/Training/r/1.png  \n",
            "  inflating: /content/train/Training/x/3.png  \n",
            "  inflating: /content/train/Training/x/16.png  \n",
            "  inflating: /content/train/Training/g/19.png  \n",
            "  inflating: /content/train/Training/m/17.png  \n",
            "  inflating: /content/train/Training/n/10.png  \n",
            "  inflating: /content/train/Training/m/4.png  \n",
            "  inflating: /content/train/Training/y/11.png  \n",
            "  inflating: /content/train/Training/i/14.png  \n",
            "  inflating: /content/train/Training/f/20.png  \n",
            "  inflating: /content/train/Training/q/7.png  \n"
          ],
          "name": "stdout"
        }
      ]
    },
    {
      "cell_type": "code",
      "metadata": {
        "colab": {
          "base_uri": "https://localhost:8080/"
        },
        "id": "oV9qElH19bRY",
        "outputId": "8ff6a385-8bb4-4433-aa18-7b0d969ad375"
      },
      "source": [
        "!unzip /content/drive/MyDrive/alphaaaaaa/Testing.zip -d /content/test/"
      ],
      "execution_count": null,
      "outputs": [
        {
          "output_type": "stream",
          "text": [
            "Archive:  /content/drive/MyDrive/alphaaaaaa/Testing.zip\n",
            "replace /content/test/Testing/r/23.png? [y]es, [n]o, [A]ll, [N]one, [r]ename: N\n"
          ],
          "name": "stdout"
        }
      ]
    },
    {
      "cell_type": "code",
      "metadata": {
        "id": "TQj7_N5bOTXq"
      },
      "source": [
        "import numpy as np\n",
        "import matplotlib.pyplot as plt\n",
        "from keras.preprocessing.image import ImageDataGenerator\n",
        "from keras.preprocessing import image\n",
        "import keras\n",
        "from keras.models import Sequential,load_model\n",
        "from keras.layers import Conv2D, MaxPooling2D, Flatten, Dense, Activation\n",
        "import os\n",
        "import pickle"
      ],
      "execution_count": null,
      "outputs": []
    },
    {
      "cell_type": "code",
      "metadata": {
        "id": "56utE7xiOTcc",
        "colab": {
          "base_uri": "https://localhost:8080/"
        },
        "outputId": "54093ac8-8fe3-47d9-badc-ccf82d0cd4b5"
      },
      "source": [
        "train_datagen = ImageDataGenerator(rescale = 1./255,\n",
        "                                   shear_range = 0.2,\n",
        "                                   zoom_range = 0.2,\n",
        "                                   horizontal_flip = True)\n",
        "\n",
        "test_datagen = ImageDataGenerator(rescale = 1./255)\n",
        "\n",
        "train_generator = train_datagen.flow_from_directory(\n",
        "    directory = '/content/train/Training',\n",
        "    target_size = (32,32),\n",
        "    batch_size = 32,\n",
        "    class_mode = 'categorical'\n",
        "\n",
        ")\n",
        "\n",
        "test_generator = test_datagen.flow_from_directory(\n",
        "    directory = '/content/test/Testing',\n",
        "    target_size = (32,32),\n",
        "    batch_size = 32,\n",
        "    class_mode = 'categorical'\n",
        "\n",
        ")"
      ],
      "execution_count": null,
      "outputs": [
        {
          "output_type": "stream",
          "text": [
            "Found 501 images belonging to 26 classes.\n",
            "Found 260 images belonging to 26 classes.\n"
          ],
          "name": "stdout"
        }
      ]
    },
    {
      "cell_type": "code",
      "metadata": {
        "colab": {
          "base_uri": "https://localhost:8080/"
        },
        "id": "noKDbuU9OTaD",
        "outputId": "f6def105-6d90-4014-880f-6d0daf9eec44"
      },
      "source": [
        "model = Sequential()\n",
        "model.add(Conv2D(32, (3, 3), input_shape = (32,32,3), activation = 'relu'))\n",
        "model.add(MaxPooling2D(pool_size = (2, 2)))\n",
        "\n",
        "\n",
        "model.add(Conv2D(32, (3, 3), activation = 'relu'))\n",
        "model.add(MaxPooling2D(pool_size = (2, 2)))\n",
        "\n",
        "model.add(Flatten())\n",
        "model.add(Dense(units = 128, activation = 'relu'))\n",
        "model.add(Dense(units = 26, activation = 'softmax'))\n",
        "\n",
        "\n",
        "model.compile(optimizer = 'adam', loss = 'categorical_crossentropy', metrics = ['accuracy'])\n",
        "\n",
        "model.summary()"
      ],
      "execution_count": null,
      "outputs": [
        {
          "output_type": "stream",
          "text": [
            "Model: \"sequential_3\"\n",
            "_________________________________________________________________\n",
            "Layer (type)                 Output Shape              Param #   \n",
            "=================================================================\n",
            "conv2d_6 (Conv2D)            (None, 30, 30, 32)        896       \n",
            "_________________________________________________________________\n",
            "max_pooling2d_6 (MaxPooling2 (None, 15, 15, 32)        0         \n",
            "_________________________________________________________________\n",
            "conv2d_7 (Conv2D)            (None, 13, 13, 32)        9248      \n",
            "_________________________________________________________________\n",
            "max_pooling2d_7 (MaxPooling2 (None, 6, 6, 32)          0         \n",
            "_________________________________________________________________\n",
            "flatten_3 (Flatten)          (None, 1152)              0         \n",
            "_________________________________________________________________\n",
            "dense_6 (Dense)              (None, 128)               147584    \n",
            "_________________________________________________________________\n",
            "dense_7 (Dense)              (None, 26)                3354      \n",
            "=================================================================\n",
            "Total params: 161,082\n",
            "Trainable params: 161,082\n",
            "Non-trainable params: 0\n",
            "_________________________________________________________________\n"
          ],
          "name": "stdout"
        }
      ]
    },
    {
      "cell_type": "code",
      "metadata": {
        "id": "OGnuJ-KCOedS",
        "colab": {
          "base_uri": "https://localhost:8080/"
        },
        "outputId": "871dbf3d-2657-4cd6-81e0-8bb2a01ab846"
      },
      "source": [
        "history = model.fit(train_generator,\n",
        "                         steps_per_epoch = 12,\n",
        "                         epochs = 5,\n",
        "                         validation_data = test_generator,\n",
        "                         validation_steps = 16)"
      ],
      "execution_count": null,
      "outputs": [
        {
          "output_type": "stream",
          "text": [
            "Epoch 1/5\n",
            "11/12 [==========================>...] - ETA: 0s - loss: 0.4538 - accuracy: 0.8358WARNING:tensorflow:Your input ran out of data; interrupting training. Make sure that your dataset or generator can generate at least `steps_per_epoch * epochs` batches (in this case, 16 batches). You may need to use the repeat() function when building your dataset.\n",
            "12/12 [==============================] - 1s 73ms/step - loss: 0.4659 - accuracy: 0.8338 - val_loss: 0.8101 - val_accuracy: 0.7231\n",
            "Epoch 2/5\n",
            "12/12 [==============================] - 1s 57ms/step - loss: 0.4623 - accuracy: 0.8359\n",
            "Epoch 3/5\n",
            "12/12 [==============================] - 1s 58ms/step - loss: 0.4039 - accuracy: 0.8646\n",
            "Epoch 4/5\n",
            "12/12 [==============================] - 1s 58ms/step - loss: 0.3593 - accuracy: 0.8802\n",
            "Epoch 5/5\n",
            "12/12 [==============================] - 1s 59ms/step - loss: 0.3319 - accuracy: 0.8646\n"
          ],
          "name": "stdout"
        }
      ]
    },
    {
      "cell_type": "code",
      "metadata": {
        "id": "8SvdPM6POg1C"
      },
      "source": [
        "model.save('model_keras.h5')"
      ],
      "execution_count": null,
      "outputs": []
    },
    {
      "cell_type": "code",
      "metadata": {
        "id": "TLOqOK-vOnlS"
      },
      "source": [
        "model = load_model('model_keras.h5')"
      ],
      "execution_count": null,
      "outputs": []
    },
    {
      "cell_type": "code",
      "metadata": {
        "id": "9oi1ec4-OTej"
      },
      "source": [
        "def get_result(result):\n",
        "    if result[0][0] == 1:\n",
        "        return('a')\n",
        "    elif result[0][1] == 1:\n",
        "        return ('b')\n",
        "    elif result[0][2] == 1:\n",
        "        return ('c')\n",
        "    elif result[0][3] == 1:\n",
        "        return ('d')\n",
        "    elif result[0][4] == 1:\n",
        "        return ('e')\n",
        "    elif result[0][5] == 1:\n",
        "        return ('f')\n",
        "    elif result[0][6] == 1:\n",
        "        return ('g')\n",
        "    elif result[0][7] == 1:\n",
        "        return ('h')\n",
        "    elif result[0][8] == 1:\n",
        "        return ('i')\n",
        "    elif result[0][9] == 1:\n",
        "        return ('j')\n",
        "    elif result[0][10] == 1:\n",
        "        return ('k')\n",
        "    elif result[0][11] == 1:\n",
        "        return ('l')\n",
        "    elif result[0][12] == 1:\n",
        "        return ('m')\n",
        "    elif result[0][13] == 1:\n",
        "        return ('n')\n",
        "    elif result[0][14] == 1:\n",
        "        return ('o')\n",
        "    elif result[0][15] == 1:\n",
        "        return ('p')\n",
        "    elif result[0][16] == 1:\n",
        "        return ('q')\n",
        "    elif result[0][17] == 1:\n",
        "        return ('r')\n",
        "    elif result[0][18] == 1:\n",
        "        return ('s')\n",
        "    elif result[0][19] == 1:\n",
        "        return ('t')\n",
        "    elif result[0][20] == 1:\n",
        "        return ('u')\n",
        "    elif result[0][21] == 1:\n",
        "        return ('v')\n",
        "    elif result[0][22] == 1:\n",
        "        return ('w')\n",
        "    elif result[0][23] == 1:\n",
        "        return ('x')\n",
        "    elif result[0][24] == 1:\n",
        "        return ('y')\n",
        "    elif result[0][25] == 1:\n",
        "        return ('z')"
      ],
      "execution_count": null,
      "outputs": []
    },
    {
      "cell_type": "code",
      "metadata": {
        "id": "qB0ajy5hOr2K",
        "colab": {
          "base_uri": "https://localhost:8080/",
          "height": 266
        },
        "outputId": "edf7cf03-1a40-4cb9-bc23-7ebf711fcb19"
      },
      "source": [
        "filename = r'/content/testinga.png'\n",
        "test_image = image.load_img(filename, target_size = (32,32))\n",
        "plt.imshow(test_image)\n",
        "test_image = image.img_to_array(test_image)\n",
        "test_image = np.expand_dims(test_image, axis = 0)"
      ],
      "execution_count": null,
      "outputs": [
        {
          "output_type": "display_data",
          "data": {
            "image/png": "[encoded data removed]",
            "text/plain": [
              "<Figure size 432x288 with 1 Axes>"
            ]
          },
          "metadata": {
            "tags": [],
            "needs_background": "light"
          }
        }
      ]
    },
    {
      "cell_type": "code",
      "metadata": {
        "id": "TlkYs4AKqsX4"
      },
      "source": [
        "\n",
        "@anvil.server.callable\n",
        "def model_run(path):\n",
        "    with anvil.media.TempFile(path) as filename:\n",
        "        test_image = image.load_img(filename, target_size = (32,32))\n",
        "        test_image = image.img_to_array(test_image)\n",
        "        test_image = np.expand_dims(test_image, axis = 0)\n",
        "        result = model.predict(test_image)\n",
        "        result = get_result(result)\n",
        "        return ('Predicted Alphabet is: {}'.format(result))"
      ],
      "execution_count": null,
      "outputs": []
    },
    {
      "cell_type": "code",
      "metadata": {
        "colab": {
          "base_uri": "https://localhost:8080/"
        },
        "id": "Tom1lsazv-on",
        "outputId": "c2a8b5c1-95fe-42ab-a5b8-82bbf4d68c5e"
      },
      "source": [
        "test_image = image.load_img(filename, target_size = (32,32))\n",
        "test_image = image.img_to_array(test_image)\n",
        "test_image = np.expand_dims(test_image, axis = 0)\n",
        "result = model.predict(test_image)\n",
        "result = get_result(result)\n",
        "print('Predicted Alphabet is: {}'.format(result))"
      ],
      "execution_count": null,
      "outputs": [
        {
          "output_type": "stream",
          "text": [
            "Predicted Alphabet is: a\n"
          ],
          "name": "stdout"
        }
      ]
    }
  ]
}