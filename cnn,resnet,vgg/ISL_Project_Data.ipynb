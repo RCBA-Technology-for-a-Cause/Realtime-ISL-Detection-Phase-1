{
  "nbformat": 4,
  "nbformat_minor": 0,
  "metadata": {
    "colab": {
      "name": "ISL_Project_Data.ipynb",
      "provenance": [],
      "collapsed_sections": []
    },
    "kernelspec": {
      "name": "python3",
      "display_name": "Python 3"
    },
    "language_info": {
      "name": "python"
    }
  },
  "cells": [
    {
      "cell_type": "markdown",
      "metadata": {
        "id": "aTrr469KcGyy"
      },
      "source": [
        "Method-1"
      ]
    },
    {
      "cell_type": "code",
      "metadata": {
        "colab": {
          "base_uri": "https://localhost:8080/"
        },
        "id": "LN782qf0O-M8",
        "outputId": "7dbfe06f-e8fb-4790-b527-9efc5dd5ec28"
      },
      "source": [
        "from google.colab import drive\n",
        "drive.mount('/content/drive')"
      ],
      "execution_count": null,
      "outputs": [
        {
          "output_type": "stream",
          "text": [
            "Mounted at /content/drive\n"
          ],
          "name": "stdout"
        }
      ]
    },
    {
      "cell_type": "code",
      "metadata": {
        "id": "pE-Zc_znPMpy"
      },
      "source": [
        "import numpy as np\n",
        "import matplotlib.pyplot as plt\n",
        "from keras.preprocessing.image import ImageDataGenerator\n",
        "from keras.preprocessing import image\n",
        "import keras\n",
        "from keras.models import Sequential,load_model\n",
        "from keras.layers import Conv2D, MaxPooling2D, Flatten, Dense, Activation\n",
        "import os\n",
        "import pickle\n",
        "import tensorflow as tf\n",
        "\n",
        "import tensorflow as tf\n",
        "from tensorflow import keras\n",
        "from keras.models import Sequential\n",
        "from keras.layers import Activation, Dense, Flatten, BatchNormalization, Conv2D, MaxPool2D, Dropout\n",
        "from keras.optimizers import Adam, SGD\n",
        "from keras.metrics import categorical_crossentropy\n",
        "from keras.preprocessing.image import ImageDataGenerator\n",
        "import itertools\n",
        "import random\n",
        "import warnings\n",
        "import numpy as np\n",
        "import cv2\n",
        "from keras.callbacks import ReduceLROnPlateau\n",
        "from keras.callbacks import ModelCheckpoint, EarlyStopping\n",
        "warnings.simplefilter(action='ignore', category=FutureWarning)\n",
        "import matplotlib.pyplot as plt"
      ],
      "execution_count": null,
      "outputs": []
    },
    {
      "cell_type": "code",
      "metadata": {
        "colab": {
          "base_uri": "https://localhost:8080/",
          "height": 723
        },
        "id": "IXiejoBTPMvQ",
        "outputId": "73dc7a85-03ff-4ebb-e1e1-e08893a02dd6"
      },
      "source": [
        "train_path = r'/content/drive/MyDrive/project_dataset/train_Unzipped_Files.zip' \n",
        "test_path = r'/content/drive/MyDrive/project_dataset/test_Unzipped_Files.zip'\n",
        "\n",
        "train_batches = ImageDataGenerator(preprocessing_function=tf.keras.applications.vgg16.preprocess_input).flow_from_directory(directory=train_path, target_size=(64,64), class_mode='categorical', batch_size=10,shuffle=True)\n",
        "\n",
        "test_batches = ImageDataGenerator(preprocessing_function=tf.keras.applications.vgg16.preprocess_input).flow_from_directory(directory=test_path, target_size=(64,64), class_mode='categorical', batch_size=10, shuffle=True)\n",
        "\n",
        "imgs, labels = next(train_batches)\n",
        "\n",
        "\n",
        "#Plotting the images...\n",
        "def plotImages(images_arr):\n",
        "    fig, axes = plt.subplots(1, 10, figsize=(30,20))\n",
        "    axes = axes.flatten()\n",
        "    for img, ax in zip( images_arr, axes):\n",
        "        img = cv2.cvtColor(img, cv2.COLOR_BGR2RGB)\n",
        "        ax.imshow(img)\n",
        "        ax.axis('off')\n",
        "    plt.tight_layout()\n",
        "    plt.show()\n",
        "\n",
        "\n",
        "plotImages(imgs)\n",
        "print(imgs.shape)\n",
        "print(labels)"
      ],
      "execution_count": null,
      "outputs": [
        {
          "output_type": "stream",
          "text": [
            "Found 122 images belonging to 26 classes.\n",
            "Found 78 images belonging to 26 classes.\n"
          ],
          "name": "stdout"
        },
        {
          "output_type": "stream",
          "text": [
            "Clipping input data to the valid range for imshow with RGB data ([0..1] for floats or [0..255] for integers).\n",
            "Clipping input data to the valid range for imshow with RGB data ([0..1] for floats or [0..255] for integers).\n",
            "Clipping input data to the valid range for imshow with RGB data ([0..1] for floats or [0..255] for integers).\n",
            "Clipping input data to the valid range for imshow with RGB data ([0..1] for floats or [0..255] for integers).\n",
            "Clipping input data to the valid range for imshow with RGB data ([0..1] for floats or [0..255] for integers).\n",
            "Clipping input data to the valid range for imshow with RGB data ([0..1] for floats or [0..255] for integers).\n",
            "Clipping input data to the valid range for imshow with RGB data ([0..1] for floats or [0..255] for integers).\n",
            "Clipping input data to the valid range for imshow with RGB data ([0..1] for floats or [0..255] for integers).\n",
            "Clipping input data to the valid range for imshow with RGB data ([0..1] for floats or [0..255] for integers).\n",
            "Clipping input data to the valid range for imshow with RGB data ([0..1] for floats or [0..255] for integers).\n"
          ],
          "name": "stderr"
        },
        {
          "output_type": "display_data",
          "data": {
            "image/png": "[encoded data removed]",
            "text/plain": [
              "<Figure size 2160x1440 with 10 Axes>"
            ]
          },
          "metadata": {
            "tags": [],
            "needs_background": "light"
          }
        },
        {
          "output_type": "stream",
          "text": [
            "(10, 64, 64, 3)\n",
            "[[0. 0. 0. 0. 0. 0. 0. 0. 1. 0. 0. 0. 0. 0. 0. 0. 0. 0. 0. 0. 0. 0. 0. 0.\n",
            "  0. 0.]\n",
            " [0. 0. 0. 0. 0. 0. 0. 0. 0. 0. 0. 0. 0. 0. 0. 0. 0. 0. 0. 1. 0. 0. 0. 0.\n",
            "  0. 0.]\n",
            " [0. 0. 0. 0. 0. 0. 0. 0. 0. 1. 0. 0. 0. 0. 0. 0. 0. 0. 0. 0. 0. 0. 0. 0.\n",
            "  0. 0.]\n",
            " [1. 0. 0. 0. 0. 0. 0. 0. 0. 0. 0. 0. 0. 0. 0. 0. 0. 0. 0. 0. 0. 0. 0. 0.\n",
            "  0. 0.]\n",
            " [0. 0. 0. 1. 0. 0. 0. 0. 0. 0. 0. 0. 0. 0. 0. 0. 0. 0. 0. 0. 0. 0. 0. 0.\n",
            "  0. 0.]\n",
            " [0. 0. 0. 0. 0. 0. 0. 0. 0. 0. 0. 0. 0. 0. 0. 0. 0. 0. 0. 1. 0. 0. 0. 0.\n",
            "  0. 0.]\n",
            " [0. 0. 0. 0. 1. 0. 0. 0. 0. 0. 0. 0. 0. 0. 0. 0. 0. 0. 0. 0. 0. 0. 0. 0.\n",
            "  0. 0.]\n",
            " [0. 0. 0. 0. 0. 0. 1. 0. 0. 0. 0. 0. 0. 0. 0. 0. 0. 0. 0. 0. 0. 0. 0. 0.\n",
            "  0. 0.]\n",
            " [0. 0. 0. 0. 1. 0. 0. 0. 0. 0. 0. 0. 0. 0. 0. 0. 0. 0. 0. 0. 0. 0. 0. 0.\n",
            "  0. 0.]\n",
            " [0. 0. 0. 0. 0. 0. 0. 1. 0. 0. 0. 0. 0. 0. 0. 0. 0. 0. 0. 0. 0. 0. 0. 0.\n",
            "  0. 0.]]\n"
          ],
          "name": "stdout"
        }
      ]
    },
    {
      "cell_type": "code",
      "metadata": {
        "id": "U6jtrzLZPMxr"
      },
      "source": [
        "model = Sequential()\n",
        "\n",
        "model.add(Conv2D(filters=32, kernel_size=(3, 3), activation='relu', input_shape=(64,64,3)))\n",
        "model.add(MaxPool2D(pool_size=(2, 2), strides=2))\n",
        "\n",
        "model.add(Conv2D(filters=64, kernel_size=(3, 3), activation='relu', padding = 'same'))\n",
        "model.add(MaxPool2D(pool_size=(2, 2), strides=2))\n",
        "\n",
        "model.add(Conv2D(filters=128, kernel_size=(3, 3), activation='relu', padding = 'valid'))\n",
        "model.add(MaxPool2D(pool_size=(2, 2), strides=2))\n",
        "\n",
        "model.add(Flatten())\n",
        "\n",
        "model.add(Dense(64,activation =\"relu\"))\n",
        "model.add(Dense(128,activation =\"relu\"))\n",
        "model.add(Dropout(0.2))\n",
        "model.add(Dense(128,activation =\"relu\"))\n",
        "model.add(Dropout(0.3))\n",
        "model.add(Dense(26,activation =\"softmax\"))"
      ],
      "execution_count": null,
      "outputs": []
    },
    {
      "cell_type": "code",
      "metadata": {
        "id": "W935hOppPM0L"
      },
      "source": [
        "model.compile(optimizer=Adam(learning_rate=0.001), loss='categorical_crossentropy', metrics=['accuracy'])\n",
        "reduce_lr = ReduceLROnPlateau(monitor='val_loss', factor=0.2, patience=1, min_lr=0.0001)\n",
        "early_stop = EarlyStopping(monitor='val_loss', min_delta=0, patience=2, verbose=0, mode='auto')\n",
        "\n",
        "\n",
        "\n",
        "model.compile(optimizer=SGD(learning_rate=0.001), loss='categorical_crossentropy', metrics=['accuracy'])\n",
        "reduce_lr = ReduceLROnPlateau(monitor='val_loss', factor=0.2, patience=1, min_lr=0.0005)\n",
        "early_stop = EarlyStopping(monitor='val_loss', min_delta=0, patience=2, verbose=0, mode='auto')"
      ],
      "execution_count": null,
      "outputs": []
    },
    {
      "cell_type": "code",
      "metadata": {
        "colab": {
          "base_uri": "https://localhost:8080/"
        },
        "id": "2e3Syk17XELs",
        "outputId": "adaabcb0-639a-4cca-c762-7a4bbd4b77ba"
      },
      "source": [
        "history2 = model.fit(train_batches, epochs=11, callbacks=[reduce_lr, early_stop],  validation_data = test_batches)#, checkpoint])\n",
        "imgs, labels = next(train_batches) # For getting next batch of imgs...\n",
        "\n",
        "imgs, labels = next(test_batches) # For getting next batch of imgs...\n",
        "scores = model.evaluate(imgs, labels, verbose=0)\n",
        "print(f'{model.metrics_names[0]} of {scores[0]}; {model.metrics_names[1]} of {scores[1]*100}%')"
      ],
      "execution_count": null,
      "outputs": [
        {
          "output_type": "stream",
          "text": [
            "Epoch 1/30\n",
            "13/13 [==============================] - 2s 159ms/step - loss: 1.0448 - accuracy: 0.7213 - val_loss: 0.5430 - val_accuracy: 0.8846\n",
            "Epoch 2/30\n",
            "13/13 [==============================] - 2s 154ms/step - loss: 0.9211 - accuracy: 0.7295 - val_loss: 0.5323 - val_accuracy: 0.8462\n",
            "Epoch 3/30\n",
            "13/13 [==============================] - 2s 156ms/step - loss: 0.9337 - accuracy: 0.6885 - val_loss: 0.5226 - val_accuracy: 0.8590\n",
            "Epoch 4/30\n",
            "13/13 [==============================] - 2s 161ms/step - loss: 0.7802 - accuracy: 0.7869 - val_loss: 0.5079 - val_accuracy: 0.8718\n",
            "Epoch 5/30\n",
            "13/13 [==============================] - 2s 160ms/step - loss: 0.8557 - accuracy: 0.7377 - val_loss: 0.4789 - val_accuracy: 0.9103\n",
            "Epoch 6/30\n",
            "13/13 [==============================] - 2s 155ms/step - loss: 0.8583 - accuracy: 0.7213 - val_loss: 0.4620 - val_accuracy: 0.8974\n",
            "Epoch 7/30\n",
            "13/13 [==============================] - 2s 154ms/step - loss: 0.7674 - accuracy: 0.8033 - val_loss: 0.4616 - val_accuracy: 0.8974\n",
            "Epoch 8/30\n",
            "13/13 [==============================] - 2s 155ms/step - loss: 0.7083 - accuracy: 0.8033 - val_loss: 0.5045 - val_accuracy: 0.8462\n",
            "Epoch 9/30\n",
            "13/13 [==============================] - 2s 154ms/step - loss: 0.6739 - accuracy: 0.8279 - val_loss: 0.4470 - val_accuracy: 0.8590\n",
            "Epoch 10/30\n",
            "13/13 [==============================] - 2s 155ms/step - loss: 0.8048 - accuracy: 0.7787 - val_loss: 0.4498 - val_accuracy: 0.8846\n",
            "Epoch 11/30\n",
            "13/13 [==============================] - 2s 155ms/step - loss: 0.7558 - accuracy: 0.7541 - val_loss: 0.4862 - val_accuracy: 0.8462\n",
            "loss of 0.37674441933631897; accuracy of 89.99999761581421%\n"
          ],
          "name": "stdout"
        }
      ]
    },
    {
      "cell_type": "code",
      "metadata": {
        "colab": {
          "base_uri": "https://localhost:8080/"
        },
        "id": "8K4SkIVcXEOQ",
        "outputId": "2ea92f83-2178-4b83-fe88-daca26fd31cf"
      },
      "source": [
        "#model.save('best_model_dataflair.h6')\n",
        "model.save('best_model_dataflair3.h6')"
      ],
      "execution_count": null,
      "outputs": [
        {
          "output_type": "stream",
          "text": [
            "INFO:tensorflow:Assets written to: best_model_dataflair3.h6/assets\n"
          ],
          "name": "stdout"
        }
      ]
    },
    {
      "cell_type": "code",
      "metadata": {
        "colab": {
          "base_uri": "https://localhost:8080/",
          "height": 1000
        },
        "id": "sU2CID1dXODD",
        "outputId": "bfe8f3ef-8046-416c-90fa-641f9615a0ae"
      },
      "source": [
        "print(history2.history)\n",
        "\n",
        "imgs, labels = next(test_batches)\n",
        "\n",
        "model = keras.models.load_model(r\"best_model_dataflair3.h6\")\n",
        "\n",
        "scores = model.evaluate(imgs, labels, verbose=0)\n",
        "print(f'{model.metrics_names[0]} of {scores[0]}; {model.metrics_names[1]} of {scores[1]*100}%')\n",
        "\n",
        "model.summary()\n",
        "\n",
        "scores #[loss, accuracy] on test data...\n",
        "model.metrics_names\n",
        "\n",
        "\n",
        "word_dict = {0:'a',1:'b',2:'c',3:'d',4:'e',5:'f',6:'g',7:'h',8:'i',9:'j',10:'k',11:'l',12:'m',13:'n',14:'o',15:'p',16:'q',17:'r',\n",
        "             18:'s',19:'t',20:'u',21:'v',22:'w',23:'x',24:'y',25:'z'}\n",
        "\n",
        "predictions = model.predict(imgs, verbose=0)\n",
        "print(\"predictions on a small set of test data--\")\n",
        "print(\"\")\n",
        "for ind, i in enumerate(predictions):\n",
        "    print(word_dict[np.argmax(i)], end='   ')\n",
        "\n",
        "plotImages(imgs)\n",
        "print('Actual labels')\n",
        "for i in labels:\n",
        "    print(word_dict[np.argmax(i)], end='   ')\n",
        "\n",
        "print(imgs.shape)\n",
        "\n",
        "history2.history"
      ],
      "execution_count": null,
      "outputs": [
        {
          "output_type": "stream",
          "text": [
            "{'loss': [1.04482102394104, 0.9211069941520691, 0.9336980581283569, 0.7802459001541138, 0.8556691408157349, 0.858281672000885, 0.767430305480957, 0.7083407044410706, 0.6739166975021362, 0.8047502040863037, 0.755810022354126], 'accuracy': [0.7213114500045776, 0.7295082211494446, 0.688524603843689, 0.7868852615356445, 0.7377049326896667, 0.7213114500045776, 0.8032786846160889, 0.8032786846160889, 0.8278688788414001, 0.7786885499954224, 0.7540983557701111], 'val_loss': [0.5429948568344116, 0.5322914123535156, 0.5226361155509949, 0.5079309344291687, 0.4789135754108429, 0.4620080590248108, 0.46163514256477356, 0.5045086741447449, 0.446968138217926, 0.44981393218040466, 0.4861891269683838], 'val_accuracy': [0.8846153616905212, 0.8461538553237915, 0.8589743375778198, 0.8717948794364929, 0.9102563858032227, 0.8974359035491943, 0.8974359035491943, 0.8461538553237915, 0.8589743375778198, 0.8846153616905212, 0.8461538553237915], 'lr': [0.0005, 0.0005, 0.0005, 0.0005, 0.0005, 0.0005, 0.0005, 0.0005, 0.0005, 0.0005, 0.0005]}\n",
            "loss of 0.6821218729019165; accuracy of 80.0000011920929%\n",
            "Model: \"sequential_1\"\n",
            "_________________________________________________________________\n",
            "Layer (type)                 Output Shape              Param #   \n",
            "=================================================================\n",
            "conv2d_3 (Conv2D)            (None, 62, 62, 32)        896       \n",
            "_________________________________________________________________\n",
            "max_pooling2d_3 (MaxPooling2 (None, 31, 31, 32)        0         \n",
            "_________________________________________________________________\n",
            "conv2d_4 (Conv2D)            (None, 31, 31, 64)        18496     \n",
            "_________________________________________________________________\n",
            "max_pooling2d_4 (MaxPooling2 (None, 15, 15, 64)        0         \n",
            "_________________________________________________________________\n",
            "conv2d_5 (Conv2D)            (None, 13, 13, 128)       73856     \n",
            "_________________________________________________________________\n",
            "max_pooling2d_5 (MaxPooling2 (None, 6, 6, 128)         0         \n",
            "_________________________________________________________________\n",
            "flatten_1 (Flatten)          (None, 4608)              0         \n",
            "_________________________________________________________________\n",
            "dense_4 (Dense)              (None, 64)                294976    \n",
            "_________________________________________________________________\n",
            "dense_5 (Dense)              (None, 128)               8320      \n",
            "_________________________________________________________________\n",
            "dropout_2 (Dropout)          (None, 128)               0         \n",
            "_________________________________________________________________\n",
            "dense_6 (Dense)              (None, 128)               16512     \n",
            "_________________________________________________________________\n",
            "dropout_3 (Dropout)          (None, 128)               0         \n",
            "_________________________________________________________________\n",
            "dense_7 (Dense)              (None, 26)                3354      \n",
            "=================================================================\n",
            "Total params: 416,410\n",
            "Trainable params: 416,410\n",
            "Non-trainable params: 0\n",
            "_________________________________________________________________\n"
          ],
          "name": "stdout"
        },
        {
          "output_type": "stream",
          "text": [
            "Clipping input data to the valid range for imshow with RGB data ([0..1] for floats or [0..255] for integers).\n",
            "Clipping input data to the valid range for imshow with RGB data ([0..1] for floats or [0..255] for integers).\n",
            "Clipping input data to the valid range for imshow with RGB data ([0..1] for floats or [0..255] for integers).\n",
            "Clipping input data to the valid range for imshow with RGB data ([0..1] for floats or [0..255] for integers).\n",
            "Clipping input data to the valid range for imshow with RGB data ([0..1] for floats or [0..255] for integers).\n",
            "Clipping input data to the valid range for imshow with RGB data ([0..1] for floats or [0..255] for integers).\n",
            "Clipping input data to the valid range for imshow with RGB data ([0..1] for floats or [0..255] for integers).\n",
            "Clipping input data to the valid range for imshow with RGB data ([0..1] for floats or [0..255] for integers).\n",
            "Clipping input data to the valid range for imshow with RGB data ([0..1] for floats or [0..255] for integers).\n",
            "Clipping input data to the valid range for imshow with RGB data ([0..1] for floats or [0..255] for integers).\n"
          ],
          "name": "stderr"
        },
        {
          "output_type": "stream",
          "text": [
            "predictions on a small set of test data--\n",
            "\n",
            "n   n   b   a   d   p   w   g   r   p   "
          ],
          "name": "stdout"
        },
        {
          "output_type": "display_data",
          "data": {
            "image/png": "[encoded data removed]",
            "text/plain": [
              "<Figure size 2160x1440 with 10 Axes>"
            ]
          },
          "metadata": {
            "tags": [],
            "needs_background": "light"
          }
        },
        {
          "output_type": "stream",
          "text": [
            "Actual labels\n",
            "n   j   b   h   d   p   w   g   r   p   (10, 64, 64, 3)\n"
          ],
          "name": "stdout"
        },
        {
          "output_type": "execute_result",
          "data": {
            "text/plain": [
              "{'accuracy': [0.7213114500045776,\n",
              "  0.7295082211494446,\n",
              "  0.688524603843689,\n",
              "  0.7868852615356445,\n",
              "  0.7377049326896667,\n",
              "  0.7213114500045776,\n",
              "  0.8032786846160889,\n",
              "  0.8032786846160889,\n",
              "  0.8278688788414001,\n",
              "  0.7786885499954224,\n",
              "  0.7540983557701111],\n",
              " 'loss': [1.04482102394104,\n",
              "  0.9211069941520691,\n",
              "  0.9336980581283569,\n",
              "  0.7802459001541138,\n",
              "  0.8556691408157349,\n",
              "  0.858281672000885,\n",
              "  0.767430305480957,\n",
              "  0.7083407044410706,\n",
              "  0.6739166975021362,\n",
              "  0.8047502040863037,\n",
              "  0.755810022354126],\n",
              " 'lr': [0.0005,\n",
              "  0.0005,\n",
              "  0.0005,\n",
              "  0.0005,\n",
              "  0.0005,\n",
              "  0.0005,\n",
              "  0.0005,\n",
              "  0.0005,\n",
              "  0.0005,\n",
              "  0.0005,\n",
              "  0.0005],\n",
              " 'val_accuracy': [0.8846153616905212,\n",
              "  0.8461538553237915,\n",
              "  0.8589743375778198,\n",
              "  0.8717948794364929,\n",
              "  0.9102563858032227,\n",
              "  0.8974359035491943,\n",
              "  0.8974359035491943,\n",
              "  0.8461538553237915,\n",
              "  0.8589743375778198,\n",
              "  0.8846153616905212,\n",
              "  0.8461538553237915],\n",
              " 'val_loss': [0.5429948568344116,\n",
              "  0.5322914123535156,\n",
              "  0.5226361155509949,\n",
              "  0.5079309344291687,\n",
              "  0.4789135754108429,\n",
              "  0.4620080590248108,\n",
              "  0.46163514256477356,\n",
              "  0.5045086741447449,\n",
              "  0.446968138217926,\n",
              "  0.44981393218040466,\n",
              "  0.4861891269683838]}"
            ]
          },
          "metadata": {
            "tags": []
          },
          "execution_count": 24
        }
      ]
    },
    {
      "cell_type": "markdown",
      "metadata": {
        "id": "pnUrrT50aACu"
      },
      "source": [
        "Method-2"
      ]
    },
    {
      "cell_type": "code",
      "metadata": {
        "colab": {
          "base_uri": "https://localhost:8080/"
        },
        "id": "S482zsPjaBcW",
        "outputId": "0deb93d4-f245-440a-b02f-58af846cacd6"
      },
      "source": [
        "train_datagen = ImageDataGenerator(rescale = 1./255,\n",
        "                                   shear_range = 0.2,\n",
        "                                   zoom_range = 0.2,\n",
        "                                   horizontal_flip = True)\n",
        "\n",
        "test_datagen = ImageDataGenerator(rescale = 1./255)\n",
        "\n",
        "train_generator = train_datagen.flow_from_directory(\n",
        "    directory = '/content/drive/MyDrive/project_dataset/train_Unzipped_Files.zip',\n",
        "    target_size = (32,32),\n",
        "    batch_size = 32,\n",
        "    class_mode = 'categorical'\n",
        "\n",
        ")\n",
        "\n",
        "test_generator = test_datagen.flow_from_directory(\n",
        "    directory = '/content/drive/MyDrive/project_dataset/test_Unzipped_Files.zip',\n",
        "    target_size = (32,32),\n",
        "    batch_size = 32,\n",
        "    class_mode = 'categorical'\n",
        "\n",
        ")"
      ],
      "execution_count": null,
      "outputs": [
        {
          "output_type": "stream",
          "text": [
            "Found 122 images belonging to 26 classes.\n",
            "Found 78 images belonging to 26 classes.\n"
          ],
          "name": "stdout"
        }
      ]
    },
    {
      "cell_type": "code",
      "metadata": {
        "colab": {
          "base_uri": "https://localhost:8080/"
        },
        "id": "L795PQtyaBed",
        "outputId": "581beb31-415c-43e4-d8b0-22e5f9d937ff"
      },
      "source": [
        "model = Sequential()\n",
        "model.add(Conv2D(32, (3, 3), input_shape = (32,32,3), activation = 'relu'))\n",
        "model.add(MaxPooling2D(pool_size = (2, 2)))\n",
        "\n",
        "\n",
        "model.add(Conv2D(32, (3, 3), activation = 'relu'))\n",
        "model.add(MaxPooling2D(pool_size = (2, 2)))\n",
        "\n",
        "model.add(Flatten())\n",
        "model.add(Dense(units = 128, activation = 'relu'))\n",
        "model.add(Dense(units = 26, activation = 'softmax'))\n",
        "\n",
        "\n",
        "model.compile(optimizer = 'adam', loss = 'categorical_crossentropy', metrics = ['accuracy'])\n",
        "\n",
        "model.summary()"
      ],
      "execution_count": null,
      "outputs": [
        {
          "output_type": "stream",
          "text": [
            "Model: \"sequential_2\"\n",
            "_________________________________________________________________\n",
            "Layer (type)                 Output Shape              Param #   \n",
            "=================================================================\n",
            "conv2d_6 (Conv2D)            (None, 30, 30, 32)        896       \n",
            "_________________________________________________________________\n",
            "max_pooling2d_6 (MaxPooling2 (None, 15, 15, 32)        0         \n",
            "_________________________________________________________________\n",
            "conv2d_7 (Conv2D)            (None, 13, 13, 32)        9248      \n",
            "_________________________________________________________________\n",
            "max_pooling2d_7 (MaxPooling2 (None, 6, 6, 32)          0         \n",
            "_________________________________________________________________\n",
            "flatten_2 (Flatten)          (None, 1152)              0         \n",
            "_________________________________________________________________\n",
            "dense_8 (Dense)              (None, 128)               147584    \n",
            "_________________________________________________________________\n",
            "dense_9 (Dense)              (None, 26)                3354      \n",
            "=================================================================\n",
            "Total params: 161,082\n",
            "Trainable params: 161,082\n",
            "Non-trainable params: 0\n",
            "_________________________________________________________________\n"
          ],
          "name": "stdout"
        }
      ]
    },
    {
      "cell_type": "code",
      "metadata": {
        "colab": {
          "base_uri": "https://localhost:8080/"
        },
        "id": "s9Jrv6iiaXpn",
        "outputId": "a7d9e54b-8b5c-476a-a6ea-e0e30a23d897"
      },
      "source": [
        "history = model.fit(train_generator,\n",
        "                         steps_per_epoch = 4,\n",
        "                         epochs = 5,\n",
        "                         validation_data = test_generator,\n",
        "                         validation_steps = 16)"
      ],
      "execution_count": null,
      "outputs": [
        {
          "output_type": "stream",
          "text": [
            "Epoch 1/5\n",
            "4/4 [==============================] - ETA: 0s - loss: 0.8528 - accuracy: 0.8361WARNING:tensorflow:Your input ran out of data; interrupting training. Make sure that your dataset or generator can generate at least `steps_per_epoch * epochs` batches (in this case, 16 batches). You may need to use the repeat() function when building your dataset.\n",
            "4/4 [==============================] - 2s 455ms/step - loss: 0.8528 - accuracy: 0.8361 - val_loss: 0.6318 - val_accuracy: 0.8462\n",
            "Epoch 2/5\n",
            "4/4 [==============================] - 1s 177ms/step - loss: 0.6134 - accuracy: 0.9098\n",
            "Epoch 3/5\n",
            "4/4 [==============================] - 1s 169ms/step - loss: 0.6007 - accuracy: 0.8279\n",
            "Epoch 4/5\n",
            "4/4 [==============================] - 1s 189ms/step - loss: 0.4534 - accuracy: 0.9180\n",
            "Epoch 5/5\n",
            "4/4 [==============================] - 1s 186ms/step - loss: 0.3046 - accuracy: 0.9508\n"
          ],
          "name": "stdout"
        }
      ]
    },
    {
      "cell_type": "code",
      "metadata": {
        "colab": {
          "base_uri": "https://localhost:8080/"
        },
        "id": "bfDNJb24ak6I",
        "outputId": "e9cbf799-6c73-40e8-9780-58735e1af887"
      },
      "source": [
        "model.save('model_keras.h7')"
      ],
      "execution_count": null,
      "outputs": [
        {
          "output_type": "stream",
          "text": [
            "INFO:tensorflow:Assets written to: model_keras.h7/assets\n"
          ],
          "name": "stdout"
        }
      ]
    },
    {
      "cell_type": "code",
      "metadata": {
        "id": "8DBtz2BrbfZk"
      },
      "source": [
        "model = load_model('model_keras.h7')"
      ],
      "execution_count": null,
      "outputs": []
    },
    {
      "cell_type": "code",
      "metadata": {
        "id": "mXJ3YoxrbfcY"
      },
      "source": [
        "def get_result(result):\n",
        "    if result[0][0] == 1:\n",
        "        return('a')\n",
        "    elif result[0][1] == 1:\n",
        "        return ('b')\n",
        "    elif result[0][2] == 1:\n",
        "        return ('c')\n",
        "    elif result[0][3] == 1:\n",
        "        return ('d')\n",
        "    elif result[0][4] == 1:\n",
        "        return ('e')\n",
        "    elif result[0][5] == 1:\n",
        "        return ('f')\n",
        "    elif result[0][6] == 1:\n",
        "        return ('g')\n",
        "    elif result[0][7] == 1:\n",
        "        return ('h')\n",
        "    elif result[0][8] == 1:\n",
        "        return ('i')\n",
        "    elif result[0][9] == 1:\n",
        "        return ('j')\n",
        "    elif result[0][10] == 1:\n",
        "        return ('k')\n",
        "    elif result[0][11] == 1:\n",
        "        return ('l')\n",
        "    elif result[0][12] == 1:\n",
        "        return ('m')\n",
        "    elif result[0][13] == 1:\n",
        "        return ('n')\n",
        "    elif result[0][14] == 1:\n",
        "        return ('o')\n",
        "    elif result[0][15] == 1:\n",
        "        return ('p')\n",
        "    elif result[0][16] == 1:\n",
        "        return ('q')\n",
        "    elif result[0][17] == 1:\n",
        "        return ('r')\n",
        "    elif result[0][18] == 1:\n",
        "        return ('s')\n",
        "    elif result[0][19] == 1:\n",
        "        return ('t')\n",
        "    elif result[0][20] == 1:\n",
        "        return ('u')\n",
        "    elif result[0][21] == 1:\n",
        "        return ('v')\n",
        "    elif result[0][22] == 1:\n",
        "        return ('w')\n",
        "    elif result[0][23] == 1:\n",
        "        return ('x')\n",
        "    elif result[0][24] == 1:\n",
        "        return ('y')\n",
        "    elif result[0][25] == 1:\n",
        "        return ('z')"
      ],
      "execution_count": null,
      "outputs": []
    },
    {
      "cell_type": "code",
      "metadata": {
        "colab": {
          "base_uri": "https://localhost:8080/",
          "height": 266
        },
        "id": "4sPIdxo3bfg0",
        "outputId": "8a81f6b7-699d-42c0-ccf6-02a9c6c6b581"
      },
      "source": [
        "filename = r'/content/1.png'\n",
        "test_image = image.load_img(filename, target_size = (32,32))\n",
        "plt.imshow(test_image)\n",
        "test_image = image.img_to_array(test_image)\n",
        "test_image = np.expand_dims(test_image, axis = 0)"
      ],
      "execution_count": null,
      "outputs": [
        {
          "output_type": "display_data",
          "data": {
            "image/png": "[encoded data removed]",
            "text/plain": [
              "<Figure size 432x288 with 1 Axes>"
            ]
          },
          "metadata": {
            "tags": [],
            "needs_background": "light"
          }
        }
      ]
    },
    {
      "cell_type": "code",
      "metadata": {
        "colab": {
          "base_uri": "https://localhost:8080/"
        },
        "id": "2NkPUEilbfjq",
        "outputId": "091f9ced-4c1a-4617-abd7-14714ab0c197"
      },
      "source": [
        "test_image = image.load_img(filename, target_size = (32,32))\n",
        "test_image = image.img_to_array(test_image)\n",
        "test_image = np.expand_dims(test_image, axis = 0)\n",
        "result = model.predict(test_image)\n",
        "result = get_result(result)\n",
        "print('Predicted Alphabet is: {}'.format(result))"
      ],
      "execution_count": null,
      "outputs": [
        {
          "output_type": "stream",
          "text": [
            "Predicted Alphabet is: a\n"
          ],
          "name": "stdout"
        }
      ]
    }
  ]
}